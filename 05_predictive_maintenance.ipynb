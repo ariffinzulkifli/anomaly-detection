{
 "cells": [
  {
   "cell_type": "code",
   "execution_count": null,
   "id": "b33bb072",
   "metadata": {
    "_cell_guid": "b1076dfc-b9ad-4769-8c92-a6c4dae69d19",
    "_uuid": "8f2839f25d086af736a60e9eeb907d3b93b6e0e5",
    "execution": {
     "iopub.execute_input": "2023-04-29T23:00:41.743533Z",
     "iopub.status.busy": "2023-04-29T23:00:41.742829Z",
     "iopub.status.idle": "2023-04-29T23:00:41.747850Z",
     "shell.execute_reply": "2023-04-29T23:00:41.748436Z",
     "shell.execute_reply.started": "2023-04-29T18:25:35.952474Z"
    },
    "papermill": {
     "duration": 0.08836,
     "end_time": "2023-04-29T23:00:41.748818",
     "exception": false,
     "start_time": "2023-04-29T23:00:41.660458",
     "status": "completed"
    },
    "tags": []
   },
   "outputs": [],
   "source": [
    "import numpy as np \n",
    "import pandas as pd \n",
    "import os"
   ]
  },
  {
   "cell_type": "code",
   "execution_count": null,
   "id": "a956769c",
   "metadata": {
    "execution": {
     "iopub.execute_input": "2023-04-29T23:00:41.967832Z",
     "iopub.status.busy": "2023-04-29T23:00:41.967085Z",
     "iopub.status.idle": "2023-04-29T23:00:41.969391Z",
     "shell.execute_reply": "2023-04-29T23:00:41.969981Z",
     "shell.execute_reply.started": "2023-04-29T18:25:35.969745Z"
    },
    "papermill": {
     "duration": 0.082173,
     "end_time": "2023-04-29T23:00:41.970171",
     "exception": false,
     "start_time": "2023-04-29T23:00:41.887998",
     "status": "completed"
    },
    "tags": []
   },
   "outputs": [],
   "source": [
    "import pandas as pd"
   ]
  },
  {
   "cell_type": "code",
   "execution_count": null,
   "id": "97496b95",
   "metadata": {
    "execution": {
     "iopub.execute_input": "2023-04-29T23:00:42.120753Z",
     "iopub.status.busy": "2023-04-29T23:00:42.120039Z",
     "iopub.status.idle": "2023-04-29T23:00:43.433230Z",
     "shell.execute_reply": "2023-04-29T23:00:43.433771Z",
     "shell.execute_reply.started": "2023-04-29T18:25:36.001722Z"
    },
    "papermill": {
     "duration": 1.389766,
     "end_time": "2023-04-29T23:00:43.433970",
     "exception": false,
     "start_time": "2023-04-29T23:00:42.044204",
     "status": "completed"
    },
    "tags": []
   },
   "outputs": [],
   "source": [
    "import imblearn\n",
    "print(imblearn.__version__)"
   ]
  },
  {
   "cell_type": "code",
   "execution_count": null,
   "id": "5fe48d6e",
   "metadata": {
    "execution": {
     "iopub.execute_input": "2023-04-29T23:00:43.585948Z",
     "iopub.status.busy": "2023-04-29T23:00:43.585187Z",
     "iopub.status.idle": "2023-04-29T23:00:43.633354Z",
     "shell.execute_reply": "2023-04-29T23:00:43.633943Z",
     "shell.execute_reply.started": "2023-04-29T18:25:37.356313Z"
    },
    "papermill": {
     "duration": 0.126784,
     "end_time": "2023-04-29T23:00:43.634140",
     "exception": false,
     "start_time": "2023-04-29T23:00:43.507356",
     "status": "completed"
    },
    "tags": []
   },
   "outputs": [],
   "source": [
    "df=pd.read_csv(\"./dataset/machine_predictive_maintenance.csv\")"
   ]
  },
  {
   "cell_type": "code",
   "execution_count": null,
   "id": "a7488974",
   "metadata": {
    "execution": {
     "iopub.execute_input": "2023-04-29T23:00:43.784017Z",
     "iopub.status.busy": "2023-04-29T23:00:43.783292Z",
     "iopub.status.idle": "2023-04-29T23:00:43.807533Z",
     "shell.execute_reply": "2023-04-29T23:00:43.806862Z",
     "shell.execute_reply.started": "2023-04-29T18:25:37.416514Z"
    },
    "papermill": {
     "duration": 0.099905,
     "end_time": "2023-04-29T23:00:43.807714",
     "exception": false,
     "start_time": "2023-04-29T23:00:43.707809",
     "status": "completed"
    },
    "tags": []
   },
   "outputs": [],
   "source": [
    "df.head()"
   ]
  },
  {
   "cell_type": "code",
   "execution_count": null,
   "id": "904a3ee3",
   "metadata": {
    "execution": {
     "iopub.execute_input": "2023-04-29T23:00:43.963282Z",
     "iopub.status.busy": "2023-04-29T23:00:43.962374Z",
     "iopub.status.idle": "2023-04-29T23:00:43.982159Z",
     "shell.execute_reply": "2023-04-29T23:00:43.981404Z",
     "shell.execute_reply.started": "2023-04-29T18:25:37.444992Z"
    },
    "papermill": {
     "duration": 0.100275,
     "end_time": "2023-04-29T23:00:43.982323",
     "exception": false,
     "start_time": "2023-04-29T23:00:43.882048",
     "status": "completed"
    },
    "tags": []
   },
   "outputs": [],
   "source": [
    "df.info()"
   ]
  },
  {
   "cell_type": "code",
   "execution_count": null,
   "id": "5606cbd2",
   "metadata": {
    "execution": {
     "iopub.execute_input": "2023-04-29T23:00:44.136212Z",
     "iopub.status.busy": "2023-04-29T23:00:44.135468Z",
     "iopub.status.idle": "2023-04-29T23:00:44.149290Z",
     "shell.execute_reply": "2023-04-29T23:00:44.149916Z",
     "shell.execute_reply.started": "2023-04-29T18:25:37.471908Z"
    },
    "papermill": {
     "duration": 0.093888,
     "end_time": "2023-04-29T23:00:44.150103",
     "exception": false,
     "start_time": "2023-04-29T23:00:44.056215",
     "status": "completed"
    },
    "tags": []
   },
   "outputs": [],
   "source": [
    "df.apply(lambda x: x.nunique())"
   ]
  },
  {
   "cell_type": "code",
   "execution_count": null,
   "id": "bf0be463",
   "metadata": {
    "execution": {
     "iopub.execute_input": "2023-04-29T23:00:44.305123Z",
     "iopub.status.busy": "2023-04-29T23:00:44.304386Z",
     "iopub.status.idle": "2023-04-29T23:00:44.308115Z",
     "shell.execute_reply": "2023-04-29T23:00:44.308718Z",
     "shell.execute_reply.started": "2023-04-29T18:25:37.490095Z"
    },
    "papermill": {
     "duration": 0.083829,
     "end_time": "2023-04-29T23:00:44.308906",
     "exception": false,
     "start_time": "2023-04-29T23:00:44.225077",
     "status": "completed"
    },
    "tags": []
   },
   "outputs": [],
   "source": [
    "df.iloc[:,-1].unique()"
   ]
  },
  {
   "cell_type": "markdown",
   "id": "e8333a8d",
   "metadata": {
    "execution": {
     "iopub.execute_input": "2021-11-27T18:31:18.051744Z",
     "iopub.status.busy": "2021-11-27T18:31:18.051322Z",
     "iopub.status.idle": "2021-11-27T18:31:18.054815Z",
     "shell.execute_reply": "2021-11-27T18:31:18.05421Z",
     "shell.execute_reply.started": "2021-11-27T18:31:18.051713Z"
    },
    "papermill": {
     "duration": 0.073679,
     "end_time": "2023-04-29T23:00:44.458035",
     "exception": false,
     "start_time": "2023-04-29T23:00:44.384356",
     "status": "completed"
    },
    "tags": []
   },
   "source": [
    "# Covering Memory Leak\n",
    " ### Can not use both Target and Failure Type at the same time. As both of them together will have Data leak. \n"
   ]
  },
  {
   "cell_type": "code",
   "execution_count": null,
   "id": "603b789b",
   "metadata": {
    "execution": {
     "iopub.execute_input": "2023-04-29T23:00:44.610006Z",
     "iopub.status.busy": "2023-04-29T23:00:44.609240Z",
     "iopub.status.idle": "2023-04-29T23:00:44.617267Z",
     "shell.execute_reply": "2023-04-29T23:00:44.616526Z",
     "shell.execute_reply.started": "2023-04-29T18:25:37.501480Z"
    },
    "papermill": {
     "duration": 0.084947,
     "end_time": "2023-04-29T23:00:44.617433",
     "exception": false,
     "start_time": "2023-04-29T23:00:44.532486",
     "status": "completed"
    },
    "tags": []
   },
   "outputs": [],
   "source": [
    "df.drop(df.columns[:2],axis=1,inplace=True)"
   ]
  },
  {
   "cell_type": "code",
   "execution_count": null,
   "id": "e86c3d69",
   "metadata": {
    "execution": {
     "iopub.execute_input": "2023-04-29T23:00:44.776308Z",
     "iopub.status.busy": "2023-04-29T23:00:44.775530Z",
     "iopub.status.idle": "2023-04-29T23:00:44.784067Z",
     "shell.execute_reply": "2023-04-29T23:00:44.784633Z",
     "shell.execute_reply.started": "2023-04-29T18:25:37.514933Z"
    },
    "papermill": {
     "duration": 0.092892,
     "end_time": "2023-04-29T23:00:44.784842",
     "exception": false,
     "start_time": "2023-04-29T23:00:44.691950",
     "status": "completed"
    },
    "tags": []
   },
   "outputs": [],
   "source": [
    "df.head()"
   ]
  },
  {
   "cell_type": "markdown",
   "id": "2113fce8",
   "metadata": {
    "papermill": {
     "duration": 0.075025,
     "end_time": "2023-04-29T23:00:44.934512",
     "exception": false,
     "start_time": "2023-04-29T23:00:44.859487",
     "status": "completed"
    },
    "tags": []
   },
   "source": [
    "# EDA"
   ]
  },
  {
   "cell_type": "code",
   "execution_count": null,
   "id": "995ea2d0",
   "metadata": {
    "execution": {
     "iopub.execute_input": "2023-04-29T23:00:45.092578Z",
     "iopub.status.busy": "2023-04-29T23:00:45.091866Z",
     "iopub.status.idle": "2023-04-29T23:00:45.229405Z",
     "shell.execute_reply": "2023-04-29T23:00:45.229966Z",
     "shell.execute_reply.started": "2023-04-29T18:25:37.536133Z"
    },
    "papermill": {
     "duration": 0.217369,
     "end_time": "2023-04-29T23:00:45.230179",
     "exception": false,
     "start_time": "2023-04-29T23:00:45.012810",
     "status": "completed"
    },
    "tags": []
   },
   "outputs": [],
   "source": [
    "import seaborn as sns\n",
    "import matplotlib\n",
    "import matplotlib.pyplot as plt\n",
    "import numpy as np\n",
    "matplotlib.style.use('ggplot')"
   ]
  },
  {
   "cell_type": "code",
   "execution_count": null,
   "id": "6368c86b",
   "metadata": {
    "execution": {
     "iopub.execute_input": "2023-04-29T23:00:45.387855Z",
     "iopub.status.busy": "2023-04-29T23:00:45.387114Z",
     "iopub.status.idle": "2023-04-29T23:00:54.898054Z",
     "shell.execute_reply": "2023-04-29T23:00:54.898601Z",
     "shell.execute_reply.started": "2023-04-29T18:25:37.695497Z"
    },
    "papermill": {
     "duration": 9.593438,
     "end_time": "2023-04-29T23:00:54.898817",
     "exception": false,
     "start_time": "2023-04-29T23:00:45.305379",
     "status": "completed"
    },
    "tags": []
   },
   "outputs": [],
   "source": [
    "sns.pairplot(df)"
   ]
  },
  {
   "cell_type": "code",
   "execution_count": null,
   "id": "86223489",
   "metadata": {
    "execution": {
     "iopub.execute_input": "2023-04-29T23:00:55.103764Z",
     "iopub.status.busy": "2023-04-29T23:00:55.102665Z",
     "iopub.status.idle": "2023-04-29T23:00:57.843047Z",
     "shell.execute_reply": "2023-04-29T23:00:57.842413Z",
     "shell.execute_reply.started": "2023-04-29T18:25:47.135768Z"
    },
    "papermill": {
     "duration": 2.843243,
     "end_time": "2023-04-29T23:00:57.843215",
     "exception": false,
     "start_time": "2023-04-29T23:00:54.999972",
     "status": "completed"
    },
    "tags": []
   },
   "outputs": [],
   "source": [
    "plt.figure(figsize=(15,10))\n",
    "for i,col in enumerate(df.columns,1):\n",
    "    plt.subplot(3,3,i)\n",
    "    sns.histplot(df[col],kde=True)"
   ]
  },
  {
   "cell_type": "code",
   "execution_count": null,
   "id": "bd7d1d7a",
   "metadata": {
    "execution": {
     "iopub.execute_input": "2023-04-29T23:00:58.055470Z",
     "iopub.status.busy": "2023-04-29T23:00:58.054423Z",
     "iopub.status.idle": "2023-04-29T23:00:58.058278Z",
     "shell.execute_reply": "2023-04-29T23:00:58.058780Z",
     "shell.execute_reply.started": "2023-04-29T18:25:49.841623Z"
    },
    "papermill": {
     "duration": 0.111641,
     "end_time": "2023-04-29T23:00:58.058975",
     "exception": false,
     "start_time": "2023-04-29T23:00:57.947334",
     "status": "completed"
    },
    "tags": []
   },
   "outputs": [],
   "source": [
    "from sklearn .preprocessing import LabelEncoder\n",
    "encode=LabelEncoder()"
   ]
  },
  {
   "cell_type": "code",
   "execution_count": null,
   "id": "90a65d2e",
   "metadata": {
    "execution": {
     "iopub.execute_input": "2023-04-29T23:00:58.268088Z",
     "iopub.status.busy": "2023-04-29T23:00:58.267051Z",
     "iopub.status.idle": "2023-04-29T23:00:58.274142Z",
     "shell.execute_reply": "2023-04-29T23:00:58.274750Z",
     "shell.execute_reply.started": "2023-04-29T18:25:49.847732Z"
    },
    "papermill": {
     "duration": 0.113613,
     "end_time": "2023-04-29T23:00:58.274933",
     "exception": false,
     "start_time": "2023-04-29T23:00:58.161320",
     "status": "completed"
    },
    "tags": []
   },
   "outputs": [],
   "source": [
    "df.loc[:,df.columns[-1]]=encode.fit_transform(df.loc[:,df.columns[-1]])"
   ]
  },
  {
   "cell_type": "code",
   "execution_count": null,
   "id": "71adb233",
   "metadata": {
    "execution": {
     "iopub.execute_input": "2023-04-29T23:00:58.519724Z",
     "iopub.status.busy": "2023-04-29T23:00:58.518641Z",
     "iopub.status.idle": "2023-04-29T23:00:58.524629Z",
     "shell.execute_reply": "2023-04-29T23:00:58.525303Z",
     "shell.execute_reply.started": "2023-04-29T18:25:49.862248Z"
    },
    "papermill": {
     "duration": 0.135027,
     "end_time": "2023-04-29T23:00:58.525500",
     "exception": false,
     "start_time": "2023-04-29T23:00:58.390473",
     "status": "completed"
    },
    "tags": []
   },
   "outputs": [],
   "source": [
    "encode.classes_"
   ]
  },
  {
   "cell_type": "code",
   "execution_count": null,
   "id": "c8477775",
   "metadata": {
    "execution": {
     "iopub.execute_input": "2023-04-29T23:00:58.745489Z",
     "iopub.status.busy": "2023-04-29T23:00:58.744411Z",
     "iopub.status.idle": "2023-04-29T23:00:58.756705Z",
     "shell.execute_reply": "2023-04-29T23:00:58.757294Z",
     "shell.execute_reply.started": "2023-04-29T18:25:49.874428Z"
    },
    "papermill": {
     "duration": 0.125027,
     "end_time": "2023-04-29T23:00:58.757483",
     "exception": false,
     "start_time": "2023-04-29T23:00:58.632456",
     "status": "completed"
    },
    "tags": []
   },
   "outputs": [],
   "source": [
    "df.head()"
   ]
  },
  {
   "cell_type": "code",
   "execution_count": null,
   "id": "5e7867b3",
   "metadata": {
    "execution": {
     "iopub.execute_input": "2023-04-29T23:00:58.977075Z",
     "iopub.status.busy": "2023-04-29T23:00:58.975982Z",
     "iopub.status.idle": "2023-04-29T23:00:58.982958Z",
     "shell.execute_reply": "2023-04-29T23:00:58.983527Z",
     "shell.execute_reply.started": "2023-04-29T18:25:49.893334Z"
    },
    "papermill": {
     "duration": 0.118666,
     "end_time": "2023-04-29T23:00:58.983744",
     "exception": false,
     "start_time": "2023-04-29T23:00:58.865078",
     "status": "completed"
    },
    "tags": []
   },
   "outputs": [],
   "source": [
    "from sklearn.model_selection import train_test_split\n",
    "X_train , X_test = train_test_split(df,test_size = 0.3)"
   ]
  },
  {
   "cell_type": "code",
   "execution_count": null,
   "id": "84bf9dfd",
   "metadata": {
    "execution": {
     "iopub.execute_input": "2023-04-29T23:00:59.202493Z",
     "iopub.status.busy": "2023-04-29T23:00:59.201403Z",
     "iopub.status.idle": "2023-04-29T23:00:59.203869Z",
     "shell.execute_reply": "2023-04-29T23:00:59.204612Z",
     "shell.execute_reply.started": "2023-04-29T18:25:49.906195Z"
    },
    "papermill": {
     "duration": 0.1151,
     "end_time": "2023-04-29T23:00:59.205076",
     "exception": false,
     "start_time": "2023-04-29T23:00:59.089976",
     "status": "completed"
    },
    "tags": []
   },
   "outputs": [],
   "source": [
    "df = X_train"
   ]
  },
  {
   "cell_type": "code",
   "execution_count": null,
   "id": "b1871f81",
   "metadata": {
    "execution": {
     "iopub.execute_input": "2023-04-29T23:00:59.419452Z",
     "iopub.status.busy": "2023-04-29T23:00:59.418349Z",
     "iopub.status.idle": "2023-04-29T23:00:59.432301Z",
     "shell.execute_reply": "2023-04-29T23:00:59.432846Z",
     "shell.execute_reply.started": "2023-04-29T18:25:49.915816Z"
    },
    "papermill": {
     "duration": 0.121202,
     "end_time": "2023-04-29T23:00:59.433040",
     "exception": false,
     "start_time": "2023-04-29T23:00:59.311838",
     "status": "completed"
    },
    "tags": []
   },
   "outputs": [],
   "source": [
    "df.head()"
   ]
  },
  {
   "cell_type": "markdown",
   "id": "95f059fa",
   "metadata": {
    "execution": {
     "iopub.execute_input": "2021-11-27T19:16:19.676952Z",
     "iopub.status.busy": "2021-11-27T19:16:19.676652Z",
     "iopub.status.idle": "2021-11-27T19:16:19.681077Z",
     "shell.execute_reply": "2021-11-27T19:16:19.680082Z",
     "shell.execute_reply.started": "2021-11-27T19:16:19.676919Z"
    },
    "papermill": {
     "duration": 0.106371,
     "end_time": "2023-04-29T23:00:59.645395",
     "exception": false,
     "start_time": "2023-04-29T23:00:59.539024",
     "status": "completed"
    },
    "tags": []
   },
   "source": [
    "## Need to min max Scaler on Roatation speed and Standard scaller on all\n",
    "- ### Use MinMaxScaler as your default\n",
    "- ### Use RobustScaler if you have outliers and can handle a larger range\n",
    "- ### Use StandardScaler if you need normalized features\n",
    "- ### Use Normalizer sparingly - it normalizes rows, not columns"
   ]
  },
  {
   "cell_type": "code",
   "execution_count": null,
   "id": "8b30493f",
   "metadata": {
    "execution": {
     "iopub.execute_input": "2023-04-29T23:00:59.861332Z",
     "iopub.status.busy": "2023-04-29T23:00:59.860300Z",
     "iopub.status.idle": "2023-04-29T23:01:00.297741Z",
     "shell.execute_reply": "2023-04-29T23:01:00.297125Z",
     "shell.execute_reply.started": "2023-04-29T18:25:49.937935Z"
    },
    "papermill": {
     "duration": 0.546361,
     "end_time": "2023-04-29T23:01:00.297909",
     "exception": false,
     "start_time": "2023-04-29T23:00:59.751548",
     "status": "completed"
    },
    "tags": []
   },
   "outputs": [],
   "source": [
    "# Select only numeric columns for the correlation matrix\n",
    "numeric_columns = df.select_dtypes(include=[np.number])\n",
    "\n",
    "# Plot the heatmap of the correlation matrix\n",
    "plt.figure(figsize=(15,10))\n",
    "heatmap = sns.heatmap(numeric_columns.corr(), annot=True, fmt='.2f', cmap='coolwarm')\n",
    "plt.title('Correlation Matrix of Numeric Features')\n",
    "plt.show()"
   ]
  },
  {
   "cell_type": "code",
   "execution_count": null,
   "id": "ae7d2f5d",
   "metadata": {
    "execution": {
     "iopub.execute_input": "2023-04-29T23:01:00.516990Z",
     "iopub.status.busy": "2023-04-29T23:01:00.515934Z",
     "iopub.status.idle": "2023-04-29T23:01:00.549102Z",
     "shell.execute_reply": "2023-04-29T23:01:00.549713Z",
     "shell.execute_reply.started": "2023-04-29T18:25:50.400925Z"
    },
    "papermill": {
     "duration": 0.144492,
     "end_time": "2023-04-29T23:01:00.549902",
     "exception": false,
     "start_time": "2023-04-29T23:01:00.405410",
     "status": "completed"
    },
    "tags": []
   },
   "outputs": [],
   "source": [
    "df.describe()"
   ]
  },
  {
   "cell_type": "code",
   "execution_count": null,
   "id": "f8b91db4",
   "metadata": {
    "execution": {
     "iopub.execute_input": "2023-04-29T23:01:00.767527Z",
     "iopub.status.busy": "2023-04-29T23:01:00.766496Z",
     "iopub.status.idle": "2023-04-29T23:01:00.778967Z",
     "shell.execute_reply": "2023-04-29T23:01:00.779570Z",
     "shell.execute_reply.started": "2023-04-29T18:25:50.440424Z"
    },
    "papermill": {
     "duration": 0.123233,
     "end_time": "2023-04-29T23:01:00.779777",
     "exception": false,
     "start_time": "2023-04-29T23:01:00.656544",
     "status": "completed"
    },
    "tags": []
   },
   "outputs": [],
   "source": [
    "df.drop(df.columns[-2],axis=1,inplace=True)"
   ]
  },
  {
   "cell_type": "code",
   "execution_count": null,
   "id": "469551f3",
   "metadata": {
    "execution": {
     "iopub.execute_input": "2023-04-29T23:01:01.003111Z",
     "iopub.status.busy": "2023-04-29T23:01:01.002060Z",
     "iopub.status.idle": "2023-04-29T23:01:01.015571Z",
     "shell.execute_reply": "2023-04-29T23:01:01.016190Z",
     "shell.execute_reply.started": "2023-04-29T18:25:50.455894Z"
    },
    "papermill": {
     "duration": 0.127445,
     "end_time": "2023-04-29T23:01:01.016378",
     "exception": false,
     "start_time": "2023-04-29T23:01:00.888933",
     "status": "completed"
    },
    "tags": []
   },
   "outputs": [],
   "source": [
    "df.head()"
   ]
  },
  {
   "cell_type": "code",
   "execution_count": null,
   "id": "a71b64b6",
   "metadata": {
    "execution": {
     "iopub.execute_input": "2023-04-29T23:01:01.237556Z",
     "iopub.status.busy": "2023-04-29T23:01:01.236530Z",
     "iopub.status.idle": "2023-04-29T23:01:01.244098Z",
     "shell.execute_reply": "2023-04-29T23:01:01.244657Z",
     "shell.execute_reply.started": "2023-04-29T18:25:50.470062Z"
    },
    "papermill": {
     "duration": 0.119028,
     "end_time": "2023-04-29T23:01:01.244862",
     "exception": false,
     "start_time": "2023-04-29T23:01:01.125834",
     "status": "completed"
    },
    "tags": []
   },
   "outputs": [],
   "source": [
    "df[df.columns[-1]].value_counts()"
   ]
  },
  {
   "cell_type": "code",
   "execution_count": null,
   "id": "4d8a1598",
   "metadata": {
    "execution": {
     "iopub.execute_input": "2023-04-29T23:01:01.465188Z",
     "iopub.status.busy": "2023-04-29T23:01:01.464205Z",
     "iopub.status.idle": "2023-04-29T23:01:01.472029Z",
     "shell.execute_reply": "2023-04-29T23:01:01.472599Z",
     "shell.execute_reply.started": "2023-04-29T18:25:50.484448Z"
    },
    "papermill": {
     "duration": 0.119885,
     "end_time": "2023-04-29T23:01:01.472803",
     "exception": false,
     "start_time": "2023-04-29T23:01:01.352918",
     "status": "completed"
    },
    "tags": []
   },
   "outputs": [],
   "source": [
    "df.Type.value_counts()"
   ]
  },
  {
   "cell_type": "code",
   "execution_count": null,
   "id": "f2208543",
   "metadata": {
    "execution": {
     "iopub.execute_input": "2023-04-29T23:01:01.693726Z",
     "iopub.status.busy": "2023-04-29T23:01:01.692709Z",
     "iopub.status.idle": "2023-04-29T23:01:01.696650Z",
     "shell.execute_reply": "2023-04-29T23:01:01.697271Z",
     "shell.execute_reply.started": "2023-04-29T18:25:50.498020Z"
    },
    "papermill": {
     "duration": 0.116364,
     "end_time": "2023-04-29T23:01:01.697457",
     "exception": false,
     "start_time": "2023-04-29T23:01:01.581093",
     "status": "completed"
    },
    "tags": []
   },
   "outputs": [],
   "source": [
    "from sklearn.preprocessing import LabelEncoder"
   ]
  },
  {
   "cell_type": "code",
   "execution_count": null,
   "id": "b3b4cc8a",
   "metadata": {
    "execution": {
     "iopub.execute_input": "2023-04-29T23:01:01.920633Z",
     "iopub.status.busy": "2023-04-29T23:01:01.919626Z",
     "iopub.status.idle": "2023-04-29T23:01:01.929658Z",
     "shell.execute_reply": "2023-04-29T23:01:01.930281Z",
     "shell.execute_reply.started": "2023-04-29T18:25:50.505304Z"
    },
    "papermill": {
     "duration": 0.122625,
     "end_time": "2023-04-29T23:01:01.930482",
     "exception": false,
     "start_time": "2023-04-29T23:01:01.807857",
     "status": "completed"
    },
    "tags": []
   },
   "outputs": [],
   "source": [
    "df=pd.get_dummies(df,drop_first=True)"
   ]
  },
  {
   "cell_type": "code",
   "execution_count": null,
   "id": "c0ef9323",
   "metadata": {
    "execution": {
     "iopub.execute_input": "2023-04-29T23:01:02.161974Z",
     "iopub.status.busy": "2023-04-29T23:01:02.160756Z",
     "iopub.status.idle": "2023-04-29T23:01:02.165274Z",
     "shell.execute_reply": "2023-04-29T23:01:02.165776Z",
     "shell.execute_reply.started": "2023-04-29T18:25:50.522172Z"
    },
    "papermill": {
     "duration": 0.124393,
     "end_time": "2023-04-29T23:01:02.165969",
     "exception": false,
     "start_time": "2023-04-29T23:01:02.041576",
     "status": "completed"
    },
    "tags": []
   },
   "outputs": [],
   "source": [
    "X_test = pd.get_dummies(X_test,drop_first=True)"
   ]
  },
  {
   "cell_type": "code",
   "execution_count": null,
   "id": "0abb7a57",
   "metadata": {
    "execution": {
     "iopub.execute_input": "2023-04-29T23:01:02.395561Z",
     "iopub.status.busy": "2023-04-29T23:01:02.394468Z",
     "iopub.status.idle": "2023-04-29T23:01:02.402983Z",
     "shell.execute_reply": "2023-04-29T23:01:02.403464Z",
     "shell.execute_reply.started": "2023-04-29T18:25:50.537466Z"
    },
    "papermill": {
     "duration": 0.126265,
     "end_time": "2023-04-29T23:01:02.403652",
     "exception": false,
     "start_time": "2023-04-29T23:01:02.277387",
     "status": "completed"
    },
    "tags": []
   },
   "outputs": [],
   "source": [
    "X_test.head()"
   ]
  },
  {
   "cell_type": "code",
   "execution_count": null,
   "id": "898d811a",
   "metadata": {
    "execution": {
     "iopub.execute_input": "2023-04-29T23:01:02.626572Z",
     "iopub.status.busy": "2023-04-29T23:01:02.625521Z",
     "iopub.status.idle": "2023-04-29T23:01:02.629420Z",
     "shell.execute_reply": "2023-04-29T23:01:02.630008Z",
     "shell.execute_reply.started": "2023-04-29T18:25:50.554390Z"
    },
    "papermill": {
     "duration": 0.11805,
     "end_time": "2023-04-29T23:01:02.630198",
     "exception": false,
     "start_time": "2023-04-29T23:01:02.512148",
     "status": "completed"
    },
    "tags": []
   },
   "outputs": [],
   "source": [
    "from sklearn import model_selection\n",
    "from sklearn.preprocessing import MinMaxScaler,StandardScaler,RobustScaler"
   ]
  },
  {
   "cell_type": "code",
   "execution_count": null,
   "id": "79ee53fb",
   "metadata": {
    "execution": {
     "iopub.execute_input": "2023-04-29T23:01:02.852046Z",
     "iopub.status.busy": "2023-04-29T23:01:02.851041Z",
     "iopub.status.idle": "2023-04-29T23:01:02.857000Z",
     "shell.execute_reply": "2023-04-29T23:01:02.857518Z",
     "shell.execute_reply.started": "2023-04-29T18:25:50.560460Z"
    },
    "papermill": {
     "duration": 0.119124,
     "end_time": "2023-04-29T23:01:02.857732",
     "exception": false,
     "start_time": "2023-04-29T23:01:02.738608",
     "status": "completed"
    },
    "tags": []
   },
   "outputs": [],
   "source": [
    "df=df.sample(frac=1).reset_index(drop=True)"
   ]
  },
  {
   "cell_type": "code",
   "execution_count": null,
   "id": "461b4ebe",
   "metadata": {
    "execution": {
     "iopub.execute_input": "2023-04-29T23:01:03.082266Z",
     "iopub.status.busy": "2023-04-29T23:01:03.081267Z",
     "iopub.status.idle": "2023-04-29T23:01:03.085338Z",
     "shell.execute_reply": "2023-04-29T23:01:03.085841Z",
     "shell.execute_reply.started": "2023-04-29T18:25:50.573816Z"
    },
    "papermill": {
     "duration": 0.119818,
     "end_time": "2023-04-29T23:01:03.086031",
     "exception": false,
     "start_time": "2023-04-29T23:01:02.966213",
     "status": "completed"
    },
    "tags": []
   },
   "outputs": [],
   "source": [
    "df.columns=df.columns.astype(\"str\")"
   ]
  },
  {
   "cell_type": "code",
   "execution_count": null,
   "id": "45a38197",
   "metadata": {
    "execution": {
     "iopub.execute_input": "2023-04-29T23:01:03.326458Z",
     "iopub.status.busy": "2023-04-29T23:01:03.325446Z",
     "iopub.status.idle": "2023-04-29T23:01:03.330046Z",
     "shell.execute_reply": "2023-04-29T23:01:03.329399Z",
     "shell.execute_reply.started": "2023-04-29T18:25:50.582925Z"
    },
    "papermill": {
     "duration": 0.135416,
     "end_time": "2023-04-29T23:01:03.330207",
     "exception": false,
     "start_time": "2023-04-29T23:01:03.194791",
     "status": "completed"
    },
    "tags": []
   },
   "outputs": [],
   "source": [
    "col_name=df.columns.to_list()"
   ]
  },
  {
   "cell_type": "code",
   "execution_count": null,
   "id": "31c4158f",
   "metadata": {
    "execution": {
     "iopub.execute_input": "2023-04-29T23:01:03.553371Z",
     "iopub.status.busy": "2023-04-29T23:01:03.552440Z",
     "iopub.status.idle": "2023-04-29T23:01:03.556509Z",
     "shell.execute_reply": "2023-04-29T23:01:03.555981Z",
     "shell.execute_reply.started": "2023-04-29T18:25:50.593468Z"
    },
    "papermill": {
     "duration": 0.118037,
     "end_time": "2023-04-29T23:01:03.556675",
     "exception": false,
     "start_time": "2023-04-29T23:01:03.438638",
     "status": "completed"
    },
    "tags": []
   },
   "outputs": [],
   "source": [
    "col_name"
   ]
  },
  {
   "cell_type": "code",
   "execution_count": null,
   "id": "34794a3e",
   "metadata": {
    "execution": {
     "iopub.execute_input": "2023-04-29T23:01:03.780304Z",
     "iopub.status.busy": "2023-04-29T23:01:03.779233Z",
     "iopub.status.idle": "2023-04-29T23:01:03.781144Z",
     "shell.execute_reply": "2023-04-29T23:01:03.781729Z",
     "shell.execute_reply.started": "2023-04-29T18:25:50.605504Z"
    },
    "papermill": {
     "duration": 0.11638,
     "end_time": "2023-04-29T23:01:03.781910",
     "exception": false,
     "start_time": "2023-04-29T23:01:03.665530",
     "status": "completed"
    },
    "tags": []
   },
   "outputs": [],
   "source": [
    "target_col=col_name.pop(-3)"
   ]
  },
  {
   "cell_type": "code",
   "execution_count": null,
   "id": "6ff8aaee",
   "metadata": {
    "execution": {
     "iopub.execute_input": "2023-04-29T23:01:04.007451Z",
     "iopub.status.busy": "2023-04-29T23:01:04.006404Z",
     "iopub.status.idle": "2023-04-29T23:01:04.009883Z",
     "shell.execute_reply": "2023-04-29T23:01:04.010362Z",
     "shell.execute_reply.started": "2023-04-29T18:25:50.615117Z"
    },
    "papermill": {
     "duration": 0.119608,
     "end_time": "2023-04-29T23:01:04.010554",
     "exception": false,
     "start_time": "2023-04-29T23:01:03.890946",
     "status": "completed"
    },
    "tags": []
   },
   "outputs": [],
   "source": [
    "feature_col=col_name"
   ]
  },
  {
   "cell_type": "code",
   "execution_count": null,
   "id": "057e670f",
   "metadata": {
    "execution": {
     "iopub.execute_input": "2023-04-29T23:01:04.238623Z",
     "iopub.status.busy": "2023-04-29T23:01:04.237577Z",
     "iopub.status.idle": "2023-04-29T23:01:04.242870Z",
     "shell.execute_reply": "2023-04-29T23:01:04.243387Z",
     "shell.execute_reply.started": "2023-04-29T18:25:50.626096Z"
    },
    "papermill": {
     "duration": 0.119279,
     "end_time": "2023-04-29T23:01:04.243568",
     "exception": false,
     "start_time": "2023-04-29T23:01:04.124289",
     "status": "completed"
    },
    "tags": []
   },
   "outputs": [],
   "source": [
    "target_col"
   ]
  },
  {
   "cell_type": "code",
   "execution_count": null,
   "id": "c6759abf",
   "metadata": {
    "execution": {
     "iopub.execute_input": "2023-04-29T23:01:04.467587Z",
     "iopub.status.busy": "2023-04-29T23:01:04.466563Z",
     "iopub.status.idle": "2023-04-29T23:01:04.472069Z",
     "shell.execute_reply": "2023-04-29T23:01:04.472539Z",
     "shell.execute_reply.started": "2023-04-29T18:25:50.638180Z"
    },
    "papermill": {
     "duration": 0.118529,
     "end_time": "2023-04-29T23:01:04.472753",
     "exception": false,
     "start_time": "2023-04-29T23:01:04.354224",
     "status": "completed"
    },
    "tags": []
   },
   "outputs": [],
   "source": [
    "feature_col"
   ]
  },
  {
   "cell_type": "code",
   "execution_count": null,
   "id": "ac1a398b",
   "metadata": {
    "execution": {
     "iopub.execute_input": "2023-04-29T23:01:04.696679Z",
     "iopub.status.busy": "2023-04-29T23:01:04.695641Z",
     "iopub.status.idle": "2023-04-29T23:01:04.699912Z",
     "shell.execute_reply": "2023-04-29T23:01:04.700407Z",
     "shell.execute_reply.started": "2023-04-29T18:25:50.648797Z"
    },
    "papermill": {
     "duration": 0.117878,
     "end_time": "2023-04-29T23:01:04.700601",
     "exception": false,
     "start_time": "2023-04-29T23:01:04.582723",
     "status": "completed"
    },
    "tags": []
   },
   "outputs": [],
   "source": [
    "y=df[\"Failure Type_1\"].values"
   ]
  },
  {
   "cell_type": "markdown",
   "id": "91dd8083",
   "metadata": {
    "papermill": {
     "duration": 0.109998,
     "end_time": "2023-04-29T23:01:04.920937",
     "exception": false,
     "start_time": "2023-04-29T23:01:04.810939",
     "status": "completed"
    },
    "tags": []
   },
   "source": [
    "# Implementing Oversampling Due to Data Imbalance"
   ]
  },
  {
   "cell_type": "code",
   "execution_count": null,
   "id": "40f1cdc5",
   "metadata": {
    "execution": {
     "iopub.execute_input": "2023-04-29T23:01:05.148663Z",
     "iopub.status.busy": "2023-04-29T23:01:05.147547Z",
     "iopub.status.idle": "2023-04-29T23:01:05.151259Z",
     "shell.execute_reply": "2023-04-29T23:01:05.151782Z",
     "shell.execute_reply.started": "2023-04-29T18:25:50.657615Z"
    },
    "papermill": {
     "duration": 0.118812,
     "end_time": "2023-04-29T23:01:05.151981",
     "exception": false,
     "start_time": "2023-04-29T23:01:05.033169",
     "status": "completed"
    },
    "tags": []
   },
   "outputs": [],
   "source": [
    "from imblearn.combine import SMOTETomek\n",
    "from collections import Counter"
   ]
  },
  {
   "cell_type": "code",
   "execution_count": null,
   "id": "255df0f3",
   "metadata": {
    "execution": {
     "iopub.execute_input": "2023-04-29T23:01:05.375627Z",
     "iopub.status.busy": "2023-04-29T23:01:05.374535Z",
     "iopub.status.idle": "2023-04-29T23:01:05.380136Z",
     "shell.execute_reply": "2023-04-29T23:01:05.380657Z",
     "shell.execute_reply.started": "2023-04-29T18:25:50.667509Z"
    },
    "papermill": {
     "duration": 0.119663,
     "end_time": "2023-04-29T23:01:05.380875",
     "exception": false,
     "start_time": "2023-04-29T23:01:05.261212",
     "status": "completed"
    },
    "tags": []
   },
   "outputs": [],
   "source": [
    "df_train=df.drop(df.columns[-3],axis=1)"
   ]
  },
  {
   "cell_type": "code",
   "execution_count": null,
   "id": "dc34cb5e",
   "metadata": {
    "execution": {
     "iopub.execute_input": "2023-04-29T23:01:05.605589Z",
     "iopub.status.busy": "2023-04-29T23:01:05.604657Z",
     "iopub.status.idle": "2023-04-29T23:01:05.607200Z",
     "shell.execute_reply": "2023-04-29T23:01:05.607809Z",
     "shell.execute_reply.started": "2023-04-29T18:25:50.679457Z"
    },
    "papermill": {
     "duration": 0.117538,
     "end_time": "2023-04-29T23:01:05.608005",
     "exception": false,
     "start_time": "2023-04-29T23:01:05.490467",
     "status": "completed"
    },
    "tags": []
   },
   "outputs": [],
   "source": [
    "df_train_val=df_train.values"
   ]
  },
  {
   "cell_type": "code",
   "execution_count": null,
   "id": "378517f0",
   "metadata": {
    "execution": {
     "iopub.execute_input": "2023-04-29T23:01:05.831580Z",
     "iopub.status.busy": "2023-04-29T23:01:05.830498Z",
     "iopub.status.idle": "2023-04-29T23:01:06.082460Z",
     "shell.execute_reply": "2023-04-29T23:01:06.081829Z",
     "shell.execute_reply.started": "2023-04-29T18:25:50.690688Z"
    },
    "papermill": {
     "duration": 0.364902,
     "end_time": "2023-04-29T23:01:06.082628",
     "exception": false,
     "start_time": "2023-04-29T23:01:05.717726",
     "status": "completed"
    },
    "tags": []
   },
   "outputs": [],
   "source": [
    "smk=SMOTETomek(random_state=42)\n",
    "X_res,y_res=smk.fit_resample(df_train_val,y)"
   ]
  },
  {
   "cell_type": "code",
   "execution_count": null,
   "id": "bd28bef6",
   "metadata": {
    "execution": {
     "iopub.execute_input": "2023-04-29T23:01:06.309726Z",
     "iopub.status.busy": "2023-04-29T23:01:06.308743Z",
     "iopub.status.idle": "2023-04-29T23:01:06.312173Z",
     "shell.execute_reply": "2023-04-29T23:01:06.312762Z",
     "shell.execute_reply.started": "2023-04-29T18:25:50.945433Z"
    },
    "papermill": {
     "duration": 0.119572,
     "end_time": "2023-04-29T23:01:06.312946",
     "exception": false,
     "start_time": "2023-04-29T23:01:06.193374",
     "status": "completed"
    },
    "tags": []
   },
   "outputs": [],
   "source": [
    "X_res.shape,y_res.shape"
   ]
  },
  {
   "cell_type": "code",
   "execution_count": null,
   "id": "6202c0e6",
   "metadata": {
    "execution": {
     "iopub.execute_input": "2023-04-29T23:01:06.550580Z",
     "iopub.status.busy": "2023-04-29T23:01:06.549666Z",
     "iopub.status.idle": "2023-04-29T23:01:06.553092Z",
     "shell.execute_reply": "2023-04-29T23:01:06.553708Z",
     "shell.execute_reply.started": "2023-04-29T18:25:50.953457Z"
    },
    "papermill": {
     "duration": 0.130219,
     "end_time": "2023-04-29T23:01:06.553901",
     "exception": false,
     "start_time": "2023-04-29T23:01:06.423682",
     "status": "completed"
    },
    "tags": []
   },
   "outputs": [],
   "source": [
    "print(f\"Orignal Dataset Shape {Counter(y)}\")\n",
    "print(f\"Resampled Dataset Shape {Counter(y_res)}\")"
   ]
  },
  {
   "cell_type": "code",
   "execution_count": null,
   "id": "919076d4",
   "metadata": {
    "execution": {
     "iopub.execute_input": "2023-04-29T23:01:06.783158Z",
     "iopub.status.busy": "2023-04-29T23:01:06.782257Z",
     "iopub.status.idle": "2023-04-29T23:01:06.785381Z",
     "shell.execute_reply": "2023-04-29T23:01:06.785876Z",
     "shell.execute_reply.started": "2023-04-29T18:25:50.974871Z"
    },
    "papermill": {
     "duration": 0.121385,
     "end_time": "2023-04-29T23:01:06.786066",
     "exception": false,
     "start_time": "2023-04-29T23:01:06.664681",
     "status": "completed"
    },
    "tags": []
   },
   "outputs": [],
   "source": [
    "df_new=pd.concat([pd.DataFrame(X_res),pd.DataFrame(y_res)],axis=1)"
   ]
  },
  {
   "cell_type": "code",
   "execution_count": null,
   "id": "352eff77",
   "metadata": {
    "execution": {
     "iopub.execute_input": "2023-04-29T23:01:07.015128Z",
     "iopub.status.busy": "2023-04-29T23:01:07.014362Z",
     "iopub.status.idle": "2023-04-29T23:01:07.029121Z",
     "shell.execute_reply": "2023-04-29T23:01:07.029711Z",
     "shell.execute_reply.started": "2023-04-29T18:25:50.992918Z"
    },
    "papermill": {
     "duration": 0.13239,
     "end_time": "2023-04-29T23:01:07.029903",
     "exception": false,
     "start_time": "2023-04-29T23:01:06.897513",
     "status": "completed"
    },
    "tags": []
   },
   "outputs": [],
   "source": [
    "df_new.head()"
   ]
  },
  {
   "cell_type": "code",
   "execution_count": null,
   "id": "161db667",
   "metadata": {
    "execution": {
     "iopub.execute_input": "2023-04-29T23:01:07.256487Z",
     "iopub.status.busy": "2023-04-29T23:01:07.255764Z",
     "iopub.status.idle": "2023-04-29T23:01:07.271897Z",
     "shell.execute_reply": "2023-04-29T23:01:07.272467Z",
     "shell.execute_reply.started": "2023-04-29T18:25:51.014165Z"
    },
    "papermill": {
     "duration": 0.130721,
     "end_time": "2023-04-29T23:01:07.272668",
     "exception": false,
     "start_time": "2023-04-29T23:01:07.141947",
     "status": "completed"
    },
    "tags": []
   },
   "outputs": [],
   "source": [
    "col_new=df_train.columns\n",
    "col_new=col_new.to_list()\n",
    "col_new.append(target_col)\n",
    "df_new.columns=col_new\n",
    "df_new.head()"
   ]
  },
  {
   "cell_type": "code",
   "execution_count": null,
   "id": "9de8e73b",
   "metadata": {
    "execution": {
     "iopub.execute_input": "2023-04-29T23:01:07.501348Z",
     "iopub.status.busy": "2023-04-29T23:01:07.500590Z",
     "iopub.status.idle": "2023-04-29T23:01:18.149499Z",
     "shell.execute_reply": "2023-04-29T23:01:18.148850Z",
     "shell.execute_reply.started": "2023-04-29T18:25:51.037421Z"
    },
    "papermill": {
     "duration": 10.764191,
     "end_time": "2023-04-29T23:01:18.149664",
     "exception": false,
     "start_time": "2023-04-29T23:01:07.385473",
     "status": "completed"
    },
    "scrolled": true,
    "tags": []
   },
   "outputs": [],
   "source": [
    "#import plotly.plotly as py\n",
    "! pip install chart-studio\n",
    "from chart_studio import plotly"
   ]
  },
  {
   "cell_type": "markdown",
   "id": "ac3b8b78",
   "metadata": {
    "execution": {
     "iopub.execute_input": "2021-11-27T19:32:08.430134Z",
     "iopub.status.busy": "2021-11-27T19:32:08.429837Z",
     "iopub.status.idle": "2021-11-27T19:32:08.433593Z",
     "shell.execute_reply": "2021-11-27T19:32:08.432957Z",
     "shell.execute_reply.started": "2021-11-27T19:32:08.430104Z"
    },
    "papermill": {
     "duration": 0.112889,
     "end_time": "2023-04-29T23:01:18.376916",
     "exception": false,
     "start_time": "2023-04-29T23:01:18.264027",
     "status": "completed"
    },
    "tags": []
   },
   "source": [
    "# ❔ Checking for outliers"
   ]
  },
  {
   "cell_type": "code",
   "execution_count": null,
   "id": "7baf98dc",
   "metadata": {
    "execution": {
     "iopub.execute_input": "2023-04-29T23:01:18.607788Z",
     "iopub.status.busy": "2023-04-29T23:01:18.606674Z",
     "iopub.status.idle": "2023-04-29T23:01:20.801656Z",
     "shell.execute_reply": "2023-04-29T23:01:20.802183Z",
     "shell.execute_reply.started": "2023-04-29T18:26:01.529291Z"
    },
    "papermill": {
     "duration": 2.311851,
     "end_time": "2023-04-29T23:01:20.802378",
     "exception": false,
     "start_time": "2023-04-29T23:01:18.490527",
     "status": "completed"
    },
    "tags": []
   },
   "outputs": [],
   "source": [
    "from plotly import __version__ \n",
    "from plotly.offline import download_plotlyjs, init_notebook_mode, plot, iplot\n",
    "import cufflinks as cf\n",
    "init_notebook_mode(connected=True)\n",
    "cf.go_offline()"
   ]
  },
  {
   "cell_type": "code",
   "execution_count": null,
   "id": "375b5187",
   "metadata": {
    "execution": {
     "iopub.execute_input": "2023-04-29T23:01:21.035099Z",
     "iopub.status.busy": "2023-04-29T23:01:21.034400Z",
     "iopub.status.idle": "2023-04-29T23:01:21.333942Z",
     "shell.execute_reply": "2023-04-29T23:01:21.334429Z",
     "shell.execute_reply.started": "2023-04-29T18:26:03.789526Z"
    },
    "papermill": {
     "duration": 0.417385,
     "end_time": "2023-04-29T23:01:21.334620",
     "exception": false,
     "start_time": "2023-04-29T23:01:20.917235",
     "status": "completed"
    },
    "tags": []
   },
   "outputs": [],
   "source": [
    "## Checking in Air Temp\n",
    "mpl_fig = plt.figure(figsize=(10,5))\n",
    "\n",
    "sns.boxplot(y=feature_col[0],x=\"Failure Type_1\",data=df_new)"
   ]
  },
  {
   "cell_type": "code",
   "execution_count": null,
   "id": "29a3fd00",
   "metadata": {
    "execution": {
     "iopub.execute_input": "2023-04-29T23:01:21.569203Z",
     "iopub.status.busy": "2023-04-29T23:01:21.568414Z",
     "iopub.status.idle": "2023-04-29T23:01:21.884514Z",
     "shell.execute_reply": "2023-04-29T23:01:21.885069Z",
     "shell.execute_reply.started": "2023-04-29T18:26:04.104437Z"
    },
    "papermill": {
     "duration": 0.435603,
     "end_time": "2023-04-29T23:01:21.885282",
     "exception": false,
     "start_time": "2023-04-29T23:01:21.449679",
     "status": "completed"
    },
    "tags": []
   },
   "outputs": [],
   "source": [
    "## Checking in Process Temp\n",
    "plt.figure(figsize=(10,5))\n",
    "sns.boxplot(y=feature_col[1],x=\"Failure Type_1\",data=df_new)"
   ]
  },
  {
   "cell_type": "code",
   "execution_count": null,
   "id": "88725967",
   "metadata": {
    "execution": {
     "iopub.execute_input": "2023-04-29T23:01:22.126286Z",
     "iopub.status.busy": "2023-04-29T23:01:22.125554Z",
     "iopub.status.idle": "2023-04-29T23:01:22.678125Z",
     "shell.execute_reply": "2023-04-29T23:01:22.677401Z",
     "shell.execute_reply.started": "2023-04-29T18:26:04.442690Z"
    },
    "papermill": {
     "duration": 0.674054,
     "end_time": "2023-04-29T23:01:22.678280",
     "exception": false,
     "start_time": "2023-04-29T23:01:22.004226",
     "status": "completed"
    },
    "tags": []
   },
   "outputs": [],
   "source": [
    "## Checking in Rotational Speed\n",
    "\n",
    "plt.figure(figsize=(10,5))\n",
    "sns.boxplot(y=feature_col[2],x=\"Failure Type_1\",data=df_new)"
   ]
  },
  {
   "cell_type": "code",
   "execution_count": null,
   "id": "ca4910b6",
   "metadata": {
    "execution": {
     "iopub.execute_input": "2023-04-29T23:01:22.920294Z",
     "iopub.status.busy": "2023-04-29T23:01:22.919486Z",
     "iopub.status.idle": "2023-04-29T23:01:23.218808Z",
     "shell.execute_reply": "2023-04-29T23:01:23.217739Z",
     "shell.execute_reply.started": "2023-04-29T18:26:05.013396Z"
    },
    "papermill": {
     "duration": 0.420868,
     "end_time": "2023-04-29T23:01:23.218970",
     "exception": false,
     "start_time": "2023-04-29T23:01:22.798102",
     "status": "completed"
    },
    "tags": []
   },
   "outputs": [],
   "source": [
    "## Checking in Torque\n",
    "plt.figure(figsize=(10,5))\n",
    "sns.boxplot(y=feature_col[3],x=\"Failure Type_1\",data=df_new)\n"
   ]
  },
  {
   "cell_type": "code",
   "execution_count": null,
   "id": "b228ac9c",
   "metadata": {
    "execution": {
     "iopub.execute_input": "2023-04-29T23:01:23.469438Z",
     "iopub.status.busy": "2023-04-29T23:01:23.468730Z",
     "iopub.status.idle": "2023-04-29T23:01:23.763246Z",
     "shell.execute_reply": "2023-04-29T23:01:23.762494Z",
     "shell.execute_reply.started": "2023-04-29T18:26:05.337806Z"
    },
    "papermill": {
     "duration": 0.422401,
     "end_time": "2023-04-29T23:01:23.763404",
     "exception": false,
     "start_time": "2023-04-29T23:01:23.341003",
     "status": "completed"
    },
    "tags": []
   },
   "outputs": [],
   "source": [
    "## Checking in Tool wear\n",
    "plt.figure(figsize=(10,5))\n",
    "sns.boxplot(y=feature_col[4],x=\"Failure Type_1\",data=df_new)"
   ]
  },
  {
   "cell_type": "code",
   "execution_count": null,
   "id": "034a5393",
   "metadata": {
    "execution": {
     "iopub.execute_input": "2023-04-29T23:01:24.013430Z",
     "iopub.status.busy": "2023-04-29T23:01:24.012724Z",
     "iopub.status.idle": "2023-04-29T23:01:24.238831Z",
     "shell.execute_reply": "2023-04-29T23:01:24.238105Z",
     "shell.execute_reply.started": "2023-04-29T18:26:05.661720Z"
    },
    "papermill": {
     "duration": 0.353671,
     "end_time": "2023-04-29T23:01:24.238991",
     "exception": false,
     "start_time": "2023-04-29T23:01:23.885320",
     "status": "completed"
    },
    "tags": []
   },
   "outputs": [],
   "source": [
    "sns.countplot(x=\"Failure Type_1\",data=df_new)"
   ]
  },
  {
   "cell_type": "code",
   "execution_count": null,
   "id": "6e0f7733",
   "metadata": {
    "execution": {
     "iopub.execute_input": "2023-04-29T23:01:24.489148Z",
     "iopub.status.busy": "2023-04-29T23:01:24.488204Z",
     "iopub.status.idle": "2023-04-29T23:01:24.491632Z",
     "shell.execute_reply": "2023-04-29T23:01:24.492190Z",
     "shell.execute_reply.started": "2023-04-29T18:26:05.913710Z"
    },
    "papermill": {
     "duration": 0.130854,
     "end_time": "2023-04-29T23:01:24.492372",
     "exception": false,
     "start_time": "2023-04-29T23:01:24.361518",
     "status": "completed"
    },
    "tags": []
   },
   "outputs": [],
   "source": [
    "# As the data here is imbalanced we need to use \n",
    "y_res"
   ]
  },
  {
   "cell_type": "markdown",
   "id": "df7dfa9d",
   "metadata": {
    "papermill": {
     "duration": 0.120847,
     "end_time": "2023-04-29T23:01:24.735129",
     "exception": false,
     "start_time": "2023-04-29T23:01:24.614282",
     "status": "completed"
    },
    "tags": []
   },
   "source": [
    "# Using Logistic Regression"
   ]
  },
  {
   "cell_type": "code",
   "execution_count": null,
   "id": "7cb12070",
   "metadata": {
    "papermill": {
     "duration": 0.122764,
     "end_time": "2023-04-29T23:01:24.984017",
     "exception": false,
     "start_time": "2023-04-29T23:01:24.861253",
     "status": "completed"
    },
    "tags": []
   },
   "outputs": [],
   "source": []
  },
  {
   "cell_type": "code",
   "execution_count": null,
   "id": "c6e169fd",
   "metadata": {
    "execution": {
     "iopub.execute_input": "2023-04-29T23:01:25.243559Z",
     "iopub.status.busy": "2023-04-29T23:01:25.242415Z",
     "iopub.status.idle": "2023-04-29T23:01:25.245361Z",
     "shell.execute_reply": "2023-04-29T23:01:25.246144Z",
     "shell.execute_reply.started": "2023-04-29T18:26:05.921876Z"
    },
    "papermill": {
     "duration": 0.139916,
     "end_time": "2023-04-29T23:01:25.246400",
     "exception": false,
     "start_time": "2023-04-29T23:01:25.106484",
     "status": "completed"
    },
    "tags": []
   },
   "outputs": [],
   "source": [
    "from sklearn.linear_model import LogisticRegression\n",
    "from sklearn.metrics import confusion_matrix,classification_report,accuracy_score,roc_auc_score\n",
    "import warnings\n",
    "warnings.filterwarnings('ignore')\n",
    "acc_log=[]"
   ]
  },
  {
   "cell_type": "markdown",
   "id": "8689d2a4",
   "metadata": {
    "execution": {
     "iopub.execute_input": "2021-11-27T19:50:32.814654Z",
     "iopub.status.busy": "2021-11-27T19:50:32.814353Z",
     "iopub.status.idle": "2021-11-27T19:59:23.885708Z",
     "shell.execute_reply": "2021-11-27T19:59:23.884457Z",
     "shell.execute_reply.started": "2021-11-27T19:50:32.81462Z"
    },
    "papermill": {
     "duration": 0.120504,
     "end_time": "2023-04-29T23:01:25.496479",
     "exception": false,
     "start_time": "2023-04-29T23:01:25.375975",
     "status": "completed"
    },
    "tags": []
   },
   "source": [
    "# Using Naive Bayers"
   ]
  },
  {
   "cell_type": "code",
   "execution_count": null,
   "id": "255c2d8f",
   "metadata": {
    "execution": {
     "iopub.execute_input": "2023-04-29T23:01:25.994921Z",
     "iopub.status.busy": "2023-04-29T23:01:25.994156Z",
     "iopub.status.idle": "2023-04-29T23:01:25.999717Z",
     "shell.execute_reply": "2023-04-29T23:01:26.000347Z",
     "shell.execute_reply.started": "2023-04-29T18:26:05.933985Z"
    },
    "papermill": {
     "duration": 0.13418,
     "end_time": "2023-04-29T23:01:26.000531",
     "exception": false,
     "start_time": "2023-04-29T23:01:25.866351",
     "status": "completed"
    },
    "tags": []
   },
   "outputs": [],
   "source": [
    "X_test[target_col].values"
   ]
  },
  {
   "cell_type": "code",
   "execution_count": null,
   "id": "2c9b1581",
   "metadata": {
    "execution": {
     "iopub.execute_input": "2023-04-29T23:01:26.248187Z",
     "iopub.status.busy": "2023-04-29T23:01:26.247439Z",
     "iopub.status.idle": "2023-04-29T23:01:26.269295Z",
     "shell.execute_reply": "2023-04-29T23:01:26.269971Z",
     "shell.execute_reply.started": "2023-04-29T18:28:00.046414Z"
    },
    "papermill": {
     "duration": 0.147217,
     "end_time": "2023-04-29T23:01:26.270169",
     "exception": false,
     "start_time": "2023-04-29T23:01:26.122952",
     "status": "completed"
    },
    "tags": []
   },
   "outputs": [],
   "source": [
    "X_test.head(30)"
   ]
  },
  {
   "cell_type": "code",
   "execution_count": null,
   "id": "b725d32a",
   "metadata": {
    "execution": {
     "iopub.execute_input": "2023-04-29T23:01:26.523280Z",
     "iopub.status.busy": "2023-04-29T23:01:26.520589Z",
     "iopub.status.idle": "2023-04-29T23:01:26.527361Z",
     "shell.execute_reply": "2023-04-29T23:01:26.526800Z",
     "shell.execute_reply.started": "2023-04-29T18:26:05.981993Z"
    },
    "papermill": {
     "duration": 0.13296,
     "end_time": "2023-04-29T23:01:26.527511",
     "exception": false,
     "start_time": "2023-04-29T23:01:26.394551",
     "status": "completed"
    },
    "tags": []
   },
   "outputs": [],
   "source": [
    "X_test[target_col].values"
   ]
  },
  {
   "cell_type": "code",
   "execution_count": null,
   "id": "caf71cc0",
   "metadata": {
    "execution": {
     "iopub.execute_input": "2023-04-29T23:01:26.784957Z",
     "iopub.status.busy": "2023-04-29T23:01:26.784196Z",
     "iopub.status.idle": "2023-04-29T23:01:27.013358Z",
     "shell.execute_reply": "2023-04-29T23:01:27.013932Z",
     "shell.execute_reply.started": "2023-04-29T18:26:05.989675Z"
    },
    "papermill": {
     "duration": 0.361755,
     "end_time": "2023-04-29T23:01:27.014138",
     "exception": false,
     "start_time": "2023-04-29T23:01:26.652383",
     "status": "completed"
    },
    "scrolled": true,
    "tags": []
   },
   "outputs": [],
   "source": [
    "from sklearn.naive_bayes import GaussianNB\n",
    "acc_Gauss=[]\n",
    "kf=model_selection.StratifiedKFold(n_splits=5)\n",
    "for fold , (trn_,val_) in enumerate(kf.split(X=df_new,y=y_res)):\n",
    "    \n",
    "    X_train=df_new.loc[trn_,feature_col]\n",
    "    y_train=df_new.loc[trn_,target_col]\n",
    "    \n",
    "    X_valid=df_new.loc[val_,feature_col]\n",
    "    y_valid=df_new.loc[val_,target_col]\n",
    "    \n",
    "    ro_scaler=RobustScaler()\n",
    "    X_train=ro_scaler.fit_transform(X_train)\n",
    "    X_valid=ro_scaler.transform(X_valid)\n",
    "    x_test_split=ro_scaler.transform(X_test[feature_col])\n",
    "    \n",
    "    clf=GaussianNB()\n",
    "    clf.fit(X_train,y_train)\n",
    "    y_pred=clf.predict(x_test_split)\n",
    "    print(f\"The fold is : {fold} : \")\n",
    "    #print(X_train[target_col].values)\n",
    "    print(y_pred)\n",
    "    print(classification_report(X_test[target_col].values,y_pred))\n",
    "#     acc=roc_auc_score(y_valid,y_pred,multi_class=\"ovo\")\n",
    "#     acc_Gauss.append(acc)\n",
    "#     print(f\"The accuracy for {fold} : {acc}\")\n",
    "    \n",
    "    pass"
   ]
  },
  {
   "cell_type": "markdown",
   "id": "1dc94fdd",
   "metadata": {
    "papermill": {
     "duration": 0.124472,
     "end_time": "2023-04-29T23:01:27.266146",
     "exception": false,
     "start_time": "2023-04-29T23:01:27.141674",
     "status": "completed"
    },
    "tags": []
   },
   "source": [
    "# Using SVM (Support Vector Machines)\n",
    "### We need to choose the best Kernel according to our need.\n",
    "\n",
    "- #### The linear kernel is mostly preferred for text classification problems as it performs well for large datasets. \n",
    "- #### Gaussian kernels tend to give good results when there is no additional information regarding data that is not available.\n",
    "- #### Rbf kernel is also a kind of Gaussian kernel which projects the high dimensional data and then searches a linear separation for it.\n",
    "- #### Polynomial kernels give good results for problems where all the training data is normalized. \n"
   ]
  },
  {
   "cell_type": "code",
   "execution_count": null,
   "id": "18847666",
   "metadata": {
    "execution": {
     "iopub.execute_input": "2023-04-29T23:01:27.524456Z",
     "iopub.status.busy": "2023-04-29T23:01:27.523665Z",
     "iopub.status.idle": "2023-04-29T23:01:59.528153Z",
     "shell.execute_reply": "2023-04-29T23:01:59.528822Z",
     "shell.execute_reply.started": "2023-04-29T18:26:06.228348Z"
    },
    "papermill": {
     "duration": 32.138196,
     "end_time": "2023-04-29T23:01:59.529042",
     "exception": false,
     "start_time": "2023-04-29T23:01:27.390846",
     "status": "completed"
    },
    "scrolled": true,
    "tags": []
   },
   "outputs": [],
   "source": [
    "from sklearn.svm import SVC\n",
    "acc_svm=[]\n",
    "kf=model_selection.StratifiedKFold(n_splits=5)\n",
    "for fold , (trn_,val_) in enumerate(kf.split(X=df_new,y=y_res)):\n",
    "    \n",
    "    X_train=df_new.loc[trn_,feature_col]\n",
    "    y_train=df_new.loc[trn_,target_col]\n",
    "    \n",
    "    X_valid=df_new.loc[val_,feature_col]\n",
    "    y_valid=df_new.loc[val_,target_col]\n",
    "    \n",
    "    ro_scaler=RobustScaler()\n",
    "    X_train=ro_scaler.fit_transform(X_train)\n",
    "    X_valid=ro_scaler.transform(X_valid)\n",
    "    x_test_split=ro_scaler.transform(X_test[feature_col])\n",
    "    \n",
    "    clf=SVC(kernel=\"linear\")\n",
    "    clf.fit(X_train,y_train)\n",
    "    y_pred=clf.predict(x_test_split)\n",
    "    print(f\"The fold is : {fold} : \")\n",
    "    print(classification_report(X_test[target_col].values,y_pred))\n",
    "#     acc=accuracy_score(y_valid,y_pred)\n",
    "#     acc_svm.append(acc)\n",
    "#     print(f\"The accuracy for {fold} : {acc}\")"
   ]
  },
  {
   "cell_type": "code",
   "execution_count": null,
   "id": "d1143b21",
   "metadata": {
    "execution": {
     "iopub.execute_input": "2023-04-29T23:01:59.786877Z",
     "iopub.status.busy": "2023-04-29T23:01:59.785976Z",
     "iopub.status.idle": "2023-04-29T23:01:59.787746Z",
     "shell.execute_reply": "2023-04-29T23:01:59.788265Z",
     "shell.execute_reply.started": "2023-04-29T18:26:42.331830Z"
    },
    "papermill": {
     "duration": 0.133204,
     "end_time": "2023-04-29T23:01:59.788448",
     "exception": false,
     "start_time": "2023-04-29T23:01:59.655244",
     "status": "completed"
    },
    "scrolled": true,
    "tags": []
   },
   "outputs": [],
   "source": [
    "from sklearn.svm import SVC\n",
    "acc_svm_sig=[]\n",
    "kf=model_selection.StratifiedKFold(n_splits=5)\n",
    "for fold , (trn_,val_) in enumerate(kf.split(X=df_new,y=y_res)):\n",
    "    \n",
    "    X_train=df_new.loc[trn_,feature_col]\n",
    "    y_train=df_new.loc[trn_,target_col]\n",
    "    \n",
    "    X_valid=df_new.loc[val_,feature_col]\n",
    "    y_valid=df_new.loc[val_,target_col]\n",
    "    \n",
    "    ro_scaler=RobustScaler()\n",
    "    X_train=ro_scaler.fit_transform(X_train)\n",
    "    X_valid=ro_scaler.transform(X_valid)\n",
    "    \n",
    "    clf=SVC(kernel=\"sigmoid\")\n",
    "    clf.fit(X_train,y_train)\n",
    "    y_pred=clf.predict(X_valid)\n",
    "    print(f\"The fold is : {fold} : \")\n",
    "    print(classification_report(y_valid,y_pred))\n",
    "    \n",
    "acc=accuracy_score(y_valid,y_pred)\n",
    "acc_svm_sig.append(acc)\n",
    "print(f\"The accuracy for {fold} : {acc}\")"
   ]
  },
  {
   "cell_type": "code",
   "execution_count": null,
   "id": "7d854c14",
   "metadata": {
    "execution": {
     "iopub.execute_input": "2023-04-29T23:02:00.046311Z",
     "iopub.status.busy": "2023-04-29T23:02:00.045550Z",
     "iopub.status.idle": "2023-04-29T23:02:31.959363Z",
     "shell.execute_reply": "2023-04-29T23:02:31.960055Z",
     "shell.execute_reply.started": "2023-04-29T18:26:42.338591Z"
    },
    "papermill": {
     "duration": 32.045024,
     "end_time": "2023-04-29T23:02:31.960264",
     "exception": false,
     "start_time": "2023-04-29T23:01:59.915240",
     "status": "completed"
    },
    "scrolled": true,
    "tags": []
   },
   "outputs": [],
   "source": [
    "# from sklearn.svm import SVC\n",
    "# acc_svm_rbf=[]\n",
    "# kf=model_selection.StratifiedKFold(n_splits=5)\n",
    "# for fold , (trn_,val_) in enumerate(kf.split(X=df_new,y=y_res)):\n",
    "    \n",
    "#     X_train=df_new.loc[trn_,feature_col]\n",
    "#     y_train=df_new.loc[trn_,target_col]\n",
    "    \n",
    "#     X_valid=df_new.loc[val_,feature_col]\n",
    "#     y_valid=df_new.loc[val_,target_col]\n",
    "    \n",
    "#     ro_scaler=RobustScaler()\n",
    "#     X_train=ro_scaler.fit_transform(X_train)\n",
    "#     X_valid=ro_scaler.transform(X_valid)\n",
    "#     x_test_split=ro_scaler.transform(X_test[feature_col])\n",
    "#     clf=SVC(kernel=\"rbf\")\n",
    "#     clf.fit(X_train,y_train)\n",
    "#     y_pred=clf.predict(x_test_split)\n",
    "#     print(f\"The fold is : {fold} : \")\n",
    "#     print(classification_report(X_test[target_col].values,y_pred))\n",
    "#     acc=accuracy_score(y_valid,y_pred)\n",
    "#     acc_svm_rbf.append(acc)\n",
    "#     print(f\"The accuracy for {fold} : {acc}\")"
   ]
  },
  {
   "cell_type": "code",
   "execution_count": null,
   "id": "631d7d98",
   "metadata": {
    "execution": {
     "iopub.execute_input": "2023-04-29T23:02:32.248775Z",
     "iopub.status.busy": "2023-04-29T23:02:32.247504Z",
     "iopub.status.idle": "2023-04-29T23:03:46.582788Z",
     "shell.execute_reply": "2023-04-29T23:03:46.582040Z",
     "shell.execute_reply.started": "2023-04-29T18:27:15.711875Z"
    },
    "papermill": {
     "duration": 74.488059,
     "end_time": "2023-04-29T23:03:46.582948",
     "exception": false,
     "start_time": "2023-04-29T23:02:32.094889",
     "status": "completed"
    },
    "scrolled": true,
    "tags": []
   },
   "outputs": [],
   "source": [
    "from sklearn.svm import SVC\n",
    "acc_svm_poly=[]\n",
    "kf=model_selection.StratifiedKFold(n_splits=5)\n",
    "for fold , (trn_,val_) in enumerate(kf.split(X=df_new,y=y_res)):\n",
    "    \n",
    "    X_train=df_new.loc[trn_,feature_col]\n",
    "    y_train=df_new.loc[trn_,target_col]\n",
    "    \n",
    "    X_valid=df_new.loc[val_,feature_col]\n",
    "    y_valid=df_new.loc[val_,target_col]\n",
    "    \n",
    "    ro_scaler=RobustScaler()\n",
    "    X_train=ro_scaler.fit_transform(X_train)\n",
    "    X_valid=ro_scaler.transform(X_valid)\n",
    "    x_test_split=ro_scaler.transform(X_test[feature_col])\n",
    "    clf=SVC(kernel=\"poly\")\n",
    "    clf.fit(X_train,y_train)\n",
    "    y_pred=clf.predict(x_test_split)\n",
    "    print(f\"The fold is : {fold} : \")\n",
    "    print(classification_report(X_test[target_col].values,y_pred))\n",
    "#     acc=accuracy_score(y_valid,y_pred)\n",
    "#     acc_svm_poly.append(acc)\n",
    "#     print(f\"The accuracy for {fold} : {acc}\")"
   ]
  },
  {
   "cell_type": "markdown",
   "id": "28813859",
   "metadata": {
    "execution": {
     "iopub.execute_input": "2021-11-28T08:46:49.743452Z",
     "iopub.status.busy": "2021-11-28T08:46:49.742556Z",
     "iopub.status.idle": "2021-11-28T08:46:49.74718Z",
     "shell.execute_reply": "2021-11-28T08:46:49.746443Z",
     "shell.execute_reply.started": "2021-11-28T08:46:49.743402Z"
    },
    "papermill": {
     "duration": 0.130071,
     "end_time": "2023-04-29T23:03:46.843948",
     "exception": false,
     "start_time": "2023-04-29T23:03:46.713877",
     "status": "completed"
    },
    "tags": []
   },
   "source": [
    "# Using  KNN\n",
    "## The optimal K value usually found is the square root of N, where N is the total number of samples."
   ]
  },
  {
   "cell_type": "code",
   "execution_count": null,
   "id": "0ca54d43",
   "metadata": {
    "execution": {
     "iopub.execute_input": "2023-04-29T23:03:47.112570Z",
     "iopub.status.busy": "2023-04-29T23:03:47.111822Z",
     "iopub.status.idle": "2023-04-29T23:03:48.441281Z",
     "shell.execute_reply": "2023-04-29T23:03:48.441840Z",
     "shell.execute_reply.started": "2023-04-29T18:27:28.683327Z"
    },
    "papermill": {
     "duration": 1.467205,
     "end_time": "2023-04-29T23:03:48.442029",
     "exception": false,
     "start_time": "2023-04-29T23:03:46.974824",
     "status": "completed"
    },
    "scrolled": true,
    "tags": []
   },
   "outputs": [],
   "source": [
    "from sklearn.neighbors import KNeighborsClassifier\n",
    "acc_KNN=[]\n",
    "kf=model_selection.StratifiedKFold(n_splits=5)\n",
    "for fold , (trn_,val_) in enumerate(kf.split(X=df_new,y=y_res)):\n",
    "    \n",
    "    X_train=df_new.loc[trn_,feature_col]\n",
    "    y_train=df_new.loc[trn_,target_col]\n",
    "    \n",
    "    X_valid=df_new.loc[val_,feature_col]\n",
    "    y_valid=df_new.loc[val_,target_col]\n",
    "    \n",
    "    ro_scaler=RobustScaler()\n",
    "    X_train=ro_scaler.fit_transform(X_train)\n",
    "    X_valid=ro_scaler.transform(X_valid)\n",
    "    x_test_split=ro_scaler.transform(X_test[feature_col])\n",
    "    clf=KNeighborsClassifier(n_neighbors=4)\n",
    "    clf.fit(X_train,y_train)\n",
    "    y_pred=clf.predict(x_test_split)\n",
    "    print(f\"The fold is : {fold} : \")\n",
    "    print(classification_report(X_test[target_col].values,y_pred))\n",
    "#     acc=accuracy_score(y_valid,y_pred)\n",
    "#     acc_KNN.append(acc)\n",
    "#     print(f\"The accuracy for {fold} : {acc}\")"
   ]
  },
  {
   "cell_type": "markdown",
   "id": "937f994a",
   "metadata": {
    "execution": {
     "iopub.execute_input": "2021-11-28T08:58:28.860989Z",
     "iopub.status.busy": "2021-11-28T08:58:28.860649Z",
     "iopub.status.idle": "2021-11-28T08:58:28.865393Z",
     "shell.execute_reply": "2021-11-28T08:58:28.864519Z",
     "shell.execute_reply.started": "2021-11-28T08:58:28.860952Z"
    },
    "papermill": {
     "duration": 0.131169,
     "end_time": "2023-04-29T23:03:48.703900",
     "exception": false,
     "start_time": "2023-04-29T23:03:48.572731",
     "status": "completed"
    },
    "tags": []
   },
   "source": [
    "# 🌲 Using Decission tree Classifier "
   ]
  },
  {
   "cell_type": "code",
   "execution_count": null,
   "id": "d270658d",
   "metadata": {
    "execution": {
     "iopub.execute_input": "2023-04-29T23:03:48.975243Z",
     "iopub.status.busy": "2023-04-29T23:03:48.974466Z",
     "iopub.status.idle": "2023-04-29T23:03:51.541793Z",
     "shell.execute_reply": "2023-04-29T23:03:51.541045Z",
     "shell.execute_reply.started": "2023-04-29T18:27:28.685593Z"
    },
    "papermill": {
     "duration": 2.707245,
     "end_time": "2023-04-29T23:03:51.541953",
     "exception": false,
     "start_time": "2023-04-29T23:03:48.834708",
     "status": "completed"
    },
    "scrolled": true,
    "tags": []
   },
   "outputs": [],
   "source": [
    "from sklearn.tree import DecisionTreeClassifier\n",
    "acc_Dtree=[]\n",
    "kf=model_selection.StratifiedKFold(n_splits=5)\n",
    "for fold , (trn_,val_) in enumerate(kf.split(X=df_new,y=y_res)):\n",
    "    \n",
    "    X_train=df_new.loc[trn_,feature_col]\n",
    "    y_train=df_new.loc[trn_,target_col]\n",
    "    \n",
    "    X_valid=df_new.loc[val_,feature_col]\n",
    "    y_valid=df_new.loc[val_,target_col]\n",
    "    \n",
    "    ro_scaler=RobustScaler()\n",
    "    X_train=ro_scaler.fit_transform(X_train)\n",
    "    X_valid=ro_scaler.transform(X_valid)\n",
    "    x_test_split=ro_scaler.transform(X_test[feature_col])\n",
    "    clf=DecisionTreeClassifier(criterion=\"entropy\")\n",
    "    clf.fit(X_train,y_train)\n",
    "    y_pred=clf.predict(x_test_split)\n",
    "    print(f\"The fold is : {fold} : \")\n",
    "    print(classification_report(X_test[target_col].values,y_pred))\n",
    "#     acc=accuracy_score(y_valid,y_pred)\n",
    "#     acc_Dtree.append(acc)\n",
    "#     print(f\"The accuracy for {fold} : {acc}\")"
   ]
  },
  {
   "cell_type": "code",
   "execution_count": null,
   "id": "8c473f85",
   "metadata": {
    "execution": {
     "iopub.execute_input": "2023-04-29T23:03:51.813351Z",
     "iopub.status.busy": "2023-04-29T23:03:51.812394Z",
     "iopub.status.idle": "2023-04-29T23:03:51.815880Z",
     "shell.execute_reply": "2023-04-29T23:03:51.815144Z",
     "shell.execute_reply.started": "2023-04-29T18:27:28.687099Z"
    },
    "papermill": {
     "duration": 0.140891,
     "end_time": "2023-04-29T23:03:51.816038",
     "exception": false,
     "start_time": "2023-04-29T23:03:51.675147",
     "status": "completed"
    },
    "scrolled": true,
    "tags": []
   },
   "outputs": [],
   "source": [
    "# import time\n",
    "# while True:\n",
    "#     print(\"5\")\n",
    "#     time.sleep(60)"
   ]
  },
  {
   "cell_type": "markdown",
   "id": "3100e0a3",
   "metadata": {
    "papermill": {
     "duration": 0.131963,
     "end_time": "2023-04-29T23:03:52.081123",
     "exception": false,
     "start_time": "2023-04-29T23:03:51.949160",
     "status": "completed"
    },
    "tags": []
   },
   "source": [
    "# 🚄 Using Random Forest Classifier"
   ]
  },
  {
   "cell_type": "code",
   "execution_count": null,
   "id": "ec647463",
   "metadata": {
    "execution": {
     "iopub.execute_input": "2023-04-29T23:03:52.356935Z",
     "iopub.status.busy": "2023-04-29T23:03:52.356195Z",
     "iopub.status.idle": "2023-04-29T23:04:20.700987Z",
     "shell.execute_reply": "2023-04-29T23:04:20.700228Z",
     "shell.execute_reply.started": "2023-04-29T18:27:28.688500Z"
    },
    "papermill": {
     "duration": 28.486565,
     "end_time": "2023-04-29T23:04:20.701156",
     "exception": false,
     "start_time": "2023-04-29T23:03:52.214591",
     "status": "completed"
    },
    "scrolled": true,
    "tags": []
   },
   "outputs": [],
   "source": [
    "from sklearn.ensemble import RandomForestClassifier\n",
    "acc_RandF=[]\n",
    "kf=model_selection.StratifiedKFold(n_splits=5)\n",
    "for fold , (trn_,val_) in enumerate(kf.split(X=df_new,y=y_res)):\n",
    "    \n",
    "    X_train=df_new.loc[trn_,feature_col]\n",
    "    y_train=df_new.loc[trn_,target_col]\n",
    "    \n",
    "    X_valid=df_new.loc[val_,feature_col]\n",
    "    y_valid=df_new.loc[val_,target_col]\n",
    "    \n",
    "    ro_scaler=RobustScaler()\n",
    "    X_train=ro_scaler.fit_transform(X_train)\n",
    "    X_valid=ro_scaler.transform(X_valid)\n",
    "    x_test_split=ro_scaler.transform(X_test[feature_col])\n",
    "    clf=RandomForestClassifier(n_estimators=55,criterion=\"entropy\")\n",
    "    clf.fit(X_train,y_train)\n",
    "    y_pred=clf.predict(x_test_split)\n",
    "    print(f\"The fold is : {fold} : \")\n",
    "    print(classification_report(X_test[target_col].values,y_pred))\n",
    "#     acc=accuracy_score(y_valid,y_pred)\n",
    "#     acc_RandF.append(acc)\n",
    "#     print(f\"The accuracy for {fold} : {acc}\")"
   ]
  },
  {
   "cell_type": "markdown",
   "id": "ea7f736b",
   "metadata": {
    "papermill": {
     "duration": 0.133322,
     "end_time": "2023-04-29T23:04:20.969103",
     "exception": false,
     "start_time": "2023-04-29T23:04:20.835781",
     "status": "completed"
    },
    "tags": []
   },
   "source": [
    "# 🚄 Using XGBoost"
   ]
  },
  {
   "cell_type": "code",
   "execution_count": null,
   "id": "fceae05f",
   "metadata": {
    "execution": {
     "iopub.execute_input": "2023-04-29T23:04:21.252214Z",
     "iopub.status.busy": "2023-04-29T23:04:21.251161Z",
     "iopub.status.idle": "2023-04-29T23:04:21.258639Z",
     "shell.execute_reply": "2023-04-29T23:04:21.257783Z",
     "shell.execute_reply.started": "2023-04-29T18:27:28.690057Z"
    },
    "papermill": {
     "duration": 0.156492,
     "end_time": "2023-04-29T23:04:21.258899",
     "exception": false,
     "start_time": "2023-04-29T23:04:21.102407",
     "status": "completed"
    },
    "tags": []
   },
   "outputs": [],
   "source": [
    "class_failure=encode.classes_"
   ]
  },
  {
   "cell_type": "code",
   "execution_count": null,
   "id": "761c5b4e",
   "metadata": {
    "execution": {
     "iopub.execute_input": "2023-04-29T23:04:21.548071Z",
     "iopub.status.busy": "2023-04-29T23:04:21.547239Z",
     "iopub.status.idle": "2023-04-29T23:04:21.551466Z",
     "shell.execute_reply": "2023-04-29T23:04:21.550937Z",
     "shell.execute_reply.started": "2023-04-29T18:27:28.691230Z"
    },
    "papermill": {
     "duration": 0.143231,
     "end_time": "2023-04-29T23:04:21.551621",
     "exception": false,
     "start_time": "2023-04-29T23:04:21.408390",
     "status": "completed"
    },
    "tags": []
   },
   "outputs": [],
   "source": [
    "class_failure"
   ]
  },
  {
   "cell_type": "code",
   "execution_count": null,
   "id": "cf906f3d",
   "metadata": {
    "execution": {
     "iopub.execute_input": "2023-04-29T23:04:21.825568Z",
     "iopub.status.busy": "2023-04-29T23:04:21.824512Z",
     "iopub.status.idle": "2023-04-29T23:04:21.828511Z",
     "shell.execute_reply": "2023-04-29T23:04:21.829212Z",
     "shell.execute_reply.started": "2023-04-29T18:27:28.692673Z"
    },
    "papermill": {
     "duration": 0.142611,
     "end_time": "2023-04-29T23:04:21.829393",
     "exception": false,
     "start_time": "2023-04-29T23:04:21.686782",
     "status": "completed"
    },
    "tags": []
   },
   "outputs": [],
   "source": [
    "# Checking the best accuracy in K-SVM using which Kernel;\n",
    "fold_list=[\"Fold 1\",\"Fold 2\",\"Fold 3\",\"Fold 4\",\"Fold 5\"]\n"
   ]
  },
  {
   "cell_type": "code",
   "execution_count": null,
   "id": "be7e2e59",
   "metadata": {
    "execution": {
     "iopub.execute_input": "2023-04-29T23:04:22.103324Z",
     "iopub.status.busy": "2023-04-29T23:04:22.102332Z",
     "iopub.status.idle": "2023-04-29T23:05:20.472071Z",
     "shell.execute_reply": "2023-04-29T23:05:20.471464Z",
     "shell.execute_reply.started": "2023-04-29T18:27:28.694940Z"
    },
    "papermill": {
     "duration": 58.508186,
     "end_time": "2023-04-29T23:05:20.472242",
     "exception": false,
     "start_time": "2023-04-29T23:04:21.964056",
     "status": "completed"
    },
    "tags": []
   },
   "outputs": [],
   "source": [
    "from xgboost import XGBClassifier\n",
    "acc_XGB=[]\n",
    "kf=model_selection.StratifiedKFold(n_splits=5)\n",
    "for fold , (trn_,val_) in enumerate(kf.split(X=df_new,y=y_res)):\n",
    "    \n",
    "    X_train=df_new.loc[trn_,feature_col]\n",
    "    y_train=df_new.loc[trn_,target_col]\n",
    "    \n",
    "    X_valid=df_new.loc[val_,feature_col]\n",
    "    y_valid=df_new.loc[val_,target_col]\n",
    "    \n",
    "    ro_scaler=RobustScaler()\n",
    "    X_train=ro_scaler.fit_transform(X_train)\n",
    "    X_valid=ro_scaler.transform(X_valid)\n",
    "    x_test_split=ro_scaler.transform(X_test[feature_col])\n",
    "    clf=XGBClassifier()\n",
    "    clf.fit(X_train,y_train)\n",
    "    y_pred=clf.predict(x_test_split)\n",
    "    print(f\"The fold is : {fold} : \")\n",
    "    print(classification_report(X_test[target_col].values,y_pred))\n",
    "#     acc=accuracy_score(y_valid,y_pred)\n",
    "#     acc_XGB.append(acc)\n",
    "#     print(f\"The accuracy for {fold} : {acc}\")"
   ]
  },
  {
   "cell_type": "code",
   "execution_count": null,
   "id": "e76f3734",
   "metadata": {
    "execution": {
     "iopub.execute_input": "2023-04-29T23:05:20.756163Z",
     "iopub.status.busy": "2023-04-29T23:05:20.755254Z",
     "iopub.status.idle": "2023-04-29T23:05:20.758751Z",
     "shell.execute_reply": "2023-04-29T23:05:20.759283Z",
     "shell.execute_reply.started": "2023-04-29T18:27:28.696778Z"
    },
    "papermill": {
     "duration": 0.149589,
     "end_time": "2023-04-29T23:05:20.759464",
     "exception": false,
     "start_time": "2023-04-29T23:05:20.609875",
     "status": "completed"
    },
    "tags": []
   },
   "outputs": [],
   "source": [
    "x_test_split"
   ]
  },
  {
   "cell_type": "code",
   "execution_count": null,
   "id": "c6a97fe6",
   "metadata": {
    "execution": {
     "iopub.execute_input": "2023-04-29T23:05:21.045888Z",
     "iopub.status.busy": "2023-04-29T23:05:21.044893Z",
     "iopub.status.idle": "2023-04-29T23:05:21.163299Z",
     "shell.execute_reply": "2023-04-29T23:05:21.162564Z",
     "shell.execute_reply.started": "2023-04-29T18:27:28.699747Z"
    },
    "papermill": {
     "duration": 0.263248,
     "end_time": "2023-04-29T23:05:21.163454",
     "exception": false,
     "start_time": "2023-04-29T23:05:20.900206",
     "status": "completed"
    },
    "tags": []
   },
   "outputs": [],
   "source": [
    "import pickle\n",
    "with open(\"XG_boost_pkl\",\"wb\") as files:\n",
    "    pickle.dump(clf,files)\n",
    "\n",
    "clf.save_model(\"model_sklearn.json\")\n"
   ]
  },
  {
   "cell_type": "markdown",
   "id": "55d69162",
   "metadata": {
    "execution": {
     "iopub.execute_input": "2021-11-28T10:54:27.977271Z",
     "iopub.status.busy": "2021-11-28T10:54:27.976982Z",
     "iopub.status.idle": "2021-11-28T10:54:27.980477Z",
     "shell.execute_reply": "2021-11-28T10:54:27.979733Z",
     "shell.execute_reply.started": "2021-11-28T10:54:27.977232Z"
    },
    "papermill": {
     "duration": 0.137733,
     "end_time": "2023-04-29T23:05:21.441067",
     "exception": false,
     "start_time": "2023-04-29T23:05:21.303334",
     "status": "completed"
    },
    "tags": []
   },
   "source": [
    "# 🔚 Summary\n",
    "### As we can see from the 97% AUC that we obtained using Random Forest as well as XGBoost"
   ]
  }
 ],
 "metadata": {
  "kernelspec": {
   "display_name": "Python 3",
   "language": "python",
   "name": "python3"
  },
  "language_info": {
   "codemirror_mode": {
    "name": "ipython",
    "version": 3
   },
   "file_extension": ".py",
   "mimetype": "text/x-python",
   "name": "python",
   "nbconvert_exporter": "python",
   "pygments_lexer": "ipython3",
   "version": "3.11.4"
  },
  "papermill": {
   "default_parameters": {},
   "duration": 323.353341,
   "end_time": "2023-04-29T23:05:55.555256",
   "environment_variables": {},
   "exception": null,
   "input_path": "__notebook__.ipynb",
   "output_path": "__notebook__.ipynb",
   "parameters": {},
   "start_time": "2023-04-29T23:00:32.201915",
   "version": "2.3.3"
  }
 },
 "nbformat": 4,
 "nbformat_minor": 5
}
